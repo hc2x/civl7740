{
 "cells": [
  {
   "cell_type": "markdown",
   "metadata": {},
   "source": [
    "---\n",
    "<a href=\"https://colab.research.google.com/github/hc2x/civl7740/blob/main/tutorial-sst-nino34.ipynb\" target=\"_blank\">\n",
    "    <img src=\"https://colab.research.google.com/assets/colab-badge.svg\" alt=\"Open in Colab\"/>\n",
    "</a>\n",
    "\n",
    "# Instruction for Google Colab environment\n",
    "- In order to make edits to this notebook, you should press File > \"Save a Copy in Drive\". This will ensure that any edits will be on your local copy, and they will not affect the notebook shared with everyone else.\n",
    "- Click \"Connect\" on the top-right corner. Once you see RAM and Disk, you are ready to run the codes!\n",
    "\n",
    "---"
   ]
  },
  {
   "cell_type": "markdown",
   "metadata": {
    "id": "fRzDLHctsenH"
   },
   "source": [
    "# Create Niño 3.4 Index with SST data\n",
    "\n",
    "Prepared by Donghoon Lee (Donghoon.Lee@umanitoba.ca)\n",
    "\n",
    "In this tutorial, we will explore\n",
    "1. Creating the Niño 3.4 index from Sea Surface Temperature (SST) data"
   ]
  },
  {
   "cell_type": "code",
   "execution_count": null,
   "metadata": {
    "colab": {
     "base_uri": "https://localhost:8080/"
    },
    "executionInfo": {
     "elapsed": 8685,
     "status": "ok",
     "timestamp": 1732243640507,
     "user": {
      "displayName": "Donghoon Lee",
      "userId": "13242271595719521887"
     },
     "user_tz": 360
    },
    "id": "BRnKdjj6seJM",
    "outputId": "5b444d52-c400-4ccf-aeaa-a84f274354bf"
   },
   "outputs": [],
   "source": [
    "! pip install xarray numpy matplotlib cartopy\n",
    "import numpy as np\n",
    "import pandas as pd\n",
    "import matplotlib.pyplot as plt\n",
    "import cartopy.crs as ccrs"
   ]
  },
  {
   "cell_type": "markdown",
   "metadata": {
    "id": "TM0DE2K2v1Dl"
   },
   "source": [
    "# Download SST data\n",
    "\n",
    "In Google Colab, when you download a file using wget, the file is saved in the current working directory of the Colab environment, which is typically */content*. You can access this directory using standard file operations in Python or by using shell commands.\n",
    "\n",
    "In this practice, we use the [NOAA Extended Reconstructed SST V5](https://psl.noaa.gov/data/gridded/data.noaa.ersst.v5.html), retreaving it from the NOAA PSL's FTP server."
   ]
  },
  {
   "cell_type": "code",
   "execution_count": null,
   "metadata": {
    "colab": {
     "base_uri": "https://localhost:8080/"
    },
    "executionInfo": {
     "elapsed": 172,
     "status": "ok",
     "timestamp": 1732243640676,
     "user": {
      "displayName": "Donghoon Lee",
      "userId": "13242271595719521887"
     },
     "user_tz": 360
    },
    "id": "LMhT2jLLyvMF",
    "outputId": "263e6a2f-0575-4e1a-df7d-d28da60da929"
   },
   "outputs": [],
   "source": [
    "!pwd\n",
    "!ls -la"
   ]
  },
  {
   "cell_type": "code",
   "execution_count": null,
   "metadata": {
    "colab": {
     "base_uri": "https://localhost:8080/"
    },
    "executionInfo": {
     "elapsed": 4363,
     "status": "ok",
     "timestamp": 1732243645037,
     "user": {
      "displayName": "Donghoon Lee",
      "userId": "13242271595719521887"
     },
     "user_tz": 360
    },
    "id": "88t0qpMDm9DN",
    "outputId": "6dd5b589-c21c-47fa-db38-8ddd398e9ee5"
   },
   "outputs": [],
   "source": [
    "# !wget ftp://ftp.cdc.noaa.gov/Datasets/COBE2/sst.mon.mean.nc\n",
    "!wget ftp://ftp.cdc.noaa.gov/Datasets/noaa.ersst.v5/sst.mnmean.nc"
   ]
  },
  {
   "cell_type": "code",
   "execution_count": null,
   "metadata": {
    "colab": {
     "base_uri": "https://localhost:8080/"
    },
    "executionInfo": {
     "elapsed": 225,
     "status": "ok",
     "timestamp": 1732243645257,
     "user": {
      "displayName": "Donghoon Lee",
      "userId": "13242271595719521887"
     },
     "user_tz": 360
    },
    "id": "j1F5sBTclPIf",
    "outputId": "3b61c916-36fc-4e04-9472-337fb9dff6ce"
   },
   "outputs": [],
   "source": [
    "!ls -la"
   ]
  },
  {
   "cell_type": "markdown",
   "metadata": {
    "id": "fLQGxj3N1MCY"
   },
   "source": [
    "## Load data using Xarray\n",
    "Next, we will load the NetCDF file as an Xarray Dataset and DataArray. Xarray is a powerful tool for working with multi-dimensional, labeled arrays, making it ideal for analyzing gridded data. For more details, please refer to the  [Xarray website](https://docs.xarray.dev/en/stable/)."
   ]
  },
  {
   "cell_type": "code",
   "execution_count": null,
   "metadata": {
    "colab": {
     "base_uri": "https://localhost:8080/",
     "height": 386
    },
    "executionInfo": {
     "elapsed": 3847,
     "status": "ok",
     "timestamp": 1732243649103,
     "user": {
      "displayName": "Donghoon Lee",
      "userId": "13242271595719521887"
     },
     "user_tz": 360
    },
    "id": "_uG1loWZ1FJv",
    "outputId": "80275991-e8a3-4c5f-9e67-ecaa2145c985"
   },
   "outputs": [],
   "source": [
    "import xarray as xr\n",
    "ds = xr.open_dataset('sst.mnmean.nc')\n",
    "ds"
   ]
  },
  {
   "cell_type": "code",
   "execution_count": null,
   "metadata": {
    "colab": {
     "base_uri": "https://localhost:8080/"
    },
    "executionInfo": {
     "elapsed": 3,
     "status": "ok",
     "timestamp": 1732243649103,
     "user": {
      "displayName": "Donghoon Lee",
      "userId": "13242271595719521887"
     },
     "user_tz": 360
    },
    "id": "ihSfxZNGnF9d",
    "outputId": "9b5a4037-a077-465c-bdcb-1df54211b2d5"
   },
   "outputs": [],
   "source": [
    "da = ds['sst']\n",
    "print(da)\n",
    "print('----------'*10)\n",
    "print(da.time)"
   ]
  },
  {
   "cell_type": "markdown",
   "metadata": {
    "id": "k3ydqtKo5PvE"
   },
   "source": [
    "## Visualize the latest SST and its anomaly"
   ]
  },
  {
   "cell_type": "code",
   "execution_count": null,
   "metadata": {
    "colab": {
     "base_uri": "https://localhost:8080/",
     "height": 505
    },
    "executionInfo": {
     "elapsed": 1208,
     "status": "ok",
     "timestamp": 1732243650309,
     "user": {
      "displayName": "Donghoon Lee",
      "userId": "13242271595719521887"
     },
     "user_tz": 360
    },
    "id": "8k0WKKkZ5I9K",
    "outputId": "06d77cf0-0c0d-40d2-8822-75131eff2630"
   },
   "outputs": [],
   "source": [
    "# Plot the latest SST\n",
    "da.sel(time='2024-10-01').plot(figsize=(10, 5), cmap='coolwarm')"
   ]
  },
  {
   "cell_type": "code",
   "execution_count": null,
   "metadata": {
    "colab": {
     "base_uri": "https://localhost:8080/",
     "height": 576
    },
    "executionInfo": {
     "elapsed": 1268,
     "status": "ok",
     "timestamp": 1732243651575,
     "user": {
      "displayName": "Donghoon Lee",
      "userId": "13242271595719521887"
     },
     "user_tz": 360
    },
    "id": "iVT6klKl68yD",
    "outputId": "5f891549-1918-43ce-fdb5-4d0905c7486b"
   },
   "outputs": [],
   "source": [
    "# Anomalies of the latest SST compared to the 1981-2000 average\n",
    "base = da.sel(time=slice('1981-01-01', '2000-12-31'))\n",
    "print(base.shape)\n",
    "# print(base)\n",
    "print('----------'*10)\n",
    "base_mean = base.mean(dim='time')\n",
    "print(base_mean.shape)\n",
    "# print(base_mean)\n",
    "print('----------'*10)\n",
    "da_anom = da.sel(time='2024-10-01') - base_mean\n",
    "da_anom.plot(figsize=(10, 5), cmap='RdBu_r', cbar_kwargs={'label': 'Sea Surface Temperature (°C)'})"
   ]
  },
  {
   "cell_type": "code",
   "execution_count": null,
   "metadata": {
    "colab": {
     "base_uri": "https://localhost:8080/",
     "height": 483
    },
    "executionInfo": {
     "elapsed": 1471,
     "status": "ok",
     "timestamp": 1732243653044,
     "user": {
      "displayName": "Donghoon Lee",
      "userId": "13242271595719521887"
     },
     "user_tz": 360
    },
    "id": "apOfRVUGnXUT",
    "outputId": "f3e4e70d-2b3d-4ec8-db57-b8297ae90d57"
   },
   "outputs": [],
   "source": [
    "# Difference between 1981-2000 and 2001-2020\n",
    "average_2020 = ds['sst'].sel(time=slice('2001-01-01', '2020-12-31')).mean(dim='time')\n",
    "average_2000 = ds['sst'].sel(time=slice('1981-01-01', '2000-12-31')).mean(dim='time')\n",
    "diff = average_2020 - average_2000\n",
    "diff.plot(figsize=(10, 5), cmap='RdBu_r', cbar_kwargs={'label': 'Sea Surface Temperature (°C)'})"
   ]
  },
  {
   "cell_type": "markdown",
   "metadata": {
    "id": "BAVXFRBPqruL"
   },
   "source": [
    "## Compute the Nino 3.4 index\n",
    "- NCAR > Climate Data Guide > [Nino SST Indices (Nino 1+2, 3, 3.4, 4; ONI and TNI)](https://climatedataguide.ucar.edu/climate-data/nino-sst-indices-nino-12-3-34-4-oni-and-tni)\n",
    "- Niño 3.4 (5N-5S, 170W-120W): The Niño 3.4 anomalies may be thought of as representing the average equatorial SSTs across the Pacific from about the dateline to the South American coast. The Niño 3.4 index typically uses a 5-month running mean, and El Niño or La Niña events are defined when the Niño 3.4 SSTs exceed +/- 0.4C for a period of six months or more."
   ]
  },
  {
   "cell_type": "code",
   "execution_count": null,
   "metadata": {
    "colab": {
     "base_uri": "https://localhost:8080/",
     "height": 54
    },
    "executionInfo": {
     "elapsed": 2198,
     "status": "ok",
     "timestamp": 1732243655241,
     "user": {
      "displayName": "Donghoon Lee",
      "userId": "13242271595719521887"
     },
     "user_tz": 360
    },
    "id": "DghZlzAym_Kh",
    "outputId": "6bc3fcc0-5d23-4799-b2a4-d156998a3457"
   },
   "outputs": [],
   "source": [
    "import xarray as xr\n",
    "# Anomalies of the latest SST compared to the 1981-2000 average\n",
    "da = xr.open_dataset('sst.mnmean.nc')['sst']\n",
    "base = da.sel(time=slice('1981-01-01', '2000-12-31'))\n",
    "base_mean = base.mean(dim='time')\n",
    "da_anom = da.sel(time='2024-10-01') - base_mean\n",
    "\n",
    "# Plotting the Niño 3.4 region (5N-5S, 170W-120W) on a map\n",
    "fig, ax = plt.subplots(figsize=(10, 5), subplot_kw={'projection': ccrs.PlateCarree()})\n",
    "ax.coastlines()\n",
    "ax.set_extent([-180, -60, -30, 30], crs=ccrs.PlateCarree())\n",
    "da_anom.plot(ax=ax, cmap='RdBu_r')\n",
    "\n",
    "# Draw the Niño 3.4 box\n",
    "nino34_box = plt.Rectangle((-170, -5), 50, 10, linewidth=2, edgecolor='b', facecolor='none', transform=ccrs.PlateCarree())\n",
    "ax.add_patch(nino34_box)\n",
    "\n",
    "# Add gridlines and titles\n",
    "ax.gridlines(draw_labels=True)\n",
    "ax.set_title('Niño 3.4 Region')\n",
    "plt.show()"
   ]
  },
  {
   "cell_type": "code",
   "execution_count": null,
   "metadata": {
    "colab": {
     "base_uri": "https://localhost:8080/",
     "height": 272
    },
    "executionInfo": {
     "elapsed": 858,
     "status": "ok",
     "timestamp": 1732243656096,
     "user": {
      "displayName": "Donghoon Lee",
      "userId": "13242271595719521887"
     },
     "user_tz": 360
    },
    "id": "s31qQi6um_B7",
    "outputId": "a351b93e-011b-48da-e14c-514c1719ffd5"
   },
   "outputs": [],
   "source": [
    "# Define the Niño 3.4 region\n",
    "nino34_lon = slice(190, 240)  # 170°W to 120°W\n",
    "nino34_lat = slice(5, -5)     # 5°N to 5°S\n",
    "\n",
    "# Select the SST data for the Niño 3.4 region\n",
    "nino34_sst = da.sel(lon=nino34_lon, lat=nino34_lat)\n",
    "\n",
    "# Calculate the climatology (mean SST for each month)\n",
    "climatology = nino34_sst.sel(time=slice('1981-01-01','2010-12-31')).groupby('time.month').mean(dim='time')\n",
    "\n",
    "# Align the climatology with the time dimension of the original data for proper broadcasting\n",
    "climatology_expanded = climatology.sel(month=nino34_sst['time.month'])\n",
    "\n",
    "# Calculate the Niño 3.4 anomalies by subtracting the monthly climatology\n",
    "nino34_anomalies = nino34_sst - climatology_expanded\n",
    "\n",
    "# Compute the spatial average of the anomalies to get the Niño 3.4 index\n",
    "nino34_index = nino34_anomalies.mean(dim=['lat', 'lon'])\n",
    "\n",
    "# Apply a 5-month moving average to smooth the Niño 3.4 index\n",
    "nino34_smoothed = nino34_index.rolling(time=3, center=True).mean()\n",
    "\n",
    "# Calculate the standard deviation of the smoothed Niño 3.4 index\n",
    "std_dev = nino34_smoothed.std()\n",
    "\n",
    "# Normalize the smoothed Niño 3.4 index by the standard deviation\n",
    "nino34_normalized = nino34_smoothed / std_dev\n",
    "\n",
    "# Remove missing values\n",
    "nino34_normalized = nino34_normalized.to_series()\n",
    "nino34_normalized.name = 'nino34_sst'\n",
    "nino34_normalized = nino34_normalized[nino34_normalized.notna()]\n",
    "nino34_normalized.head()"
   ]
  },
  {
   "cell_type": "code",
   "execution_count": null,
   "metadata": {
    "executionInfo": {
     "elapsed": 150,
     "status": "ok",
     "timestamp": 1732243656243,
     "user": {
      "displayName": "Donghoon Lee",
      "userId": "13242271595719521887"
     },
     "user_tz": 360
    },
    "id": "8bFt5y8c5wjf"
   },
   "outputs": [],
   "source": [
    "# Compare with Niño 3.4 index\n",
    "nino = pd.read_csv(\n",
    "    'https://psl.noaa.gov/data/correlation/nina34.anom.data',\n",
    "    header=None,\n",
    "    sep='\\s+',\n",
    "    skiprows=1,     # Skip the initial header\n",
    "    skipfooter=3,   # Skip footer lines with metadata\n",
    "    engine='python',\n",
    ")\n",
    "nino.columns = ['year', 1,2,3,4,5,6,7,8,9,10,11,12]\n",
    "nino.set_index('year', inplace=True)\n",
    "# Convert to Time-Series\n",
    "nino_ts = nino.stack().reset_index()\n",
    "nino_ts.columns = ['year', 'month', 'nino34_psl']\n",
    "nino_ts['date'] = pd.to_datetime(nino_ts['year'].astype(str) + '-' + nino_ts['month'].astype(str))\n",
    "nino_ts.set_index('date', inplace=True)\n",
    "nino_ts.drop(columns=['year', 'month'], inplace=True)\n",
    "nino_ts = nino_ts[nino_ts['nino34_psl'] != -99.99]"
   ]
  },
  {
   "cell_type": "code",
   "execution_count": null,
   "metadata": {
    "colab": {
     "base_uri": "https://localhost:8080/",
     "height": 162
    },
    "executionInfo": {
     "elapsed": 535,
     "status": "ok",
     "timestamp": 1732243656776,
     "user": {
      "displayName": "Donghoon Lee",
      "userId": "13242271595719521887"
     },
     "user_tz": 360
    },
    "id": "xYGBrW_jio9N",
    "outputId": "9a8ac877-c371-4922-aa0f-b3b8f4d1f866"
   },
   "outputs": [],
   "source": [
    "data = pd.merge(nino34_normalized, nino_ts, left_index=True, right_index=True, how='inner')\n",
    "fig, ax = plt.subplots(figsize=(8, 4), dpi=150)\n",
    "data[data.index > '1970-01-01'].plot(ax=ax)\n",
    "ax.set_ylabel('Nino 3.4 Index', fontsize=9)\n",
    "ax.set_xlabel('Time', fontsize=9)\n",
    "ax.tick_params(axis='both', labelsize=9)\n",
    "plt.show()\n",
    "plt.tight_layout()"
   ]
  }
 ],
 "metadata": {
  "colab": {
   "authorship_tag": "ABX9TyOf4lbE8SYbgSLzmFJkpRqL",
   "provenance": []
  },
  "kernelspec": {
   "display_name": "Python 3",
   "name": "python3"
  },
  "language_info": {
   "name": "python"
  }
 },
 "nbformat": 4,
 "nbformat_minor": 0
}
